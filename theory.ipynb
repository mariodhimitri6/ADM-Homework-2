{
 "cells": [
  {
   "cell_type": "markdown",
   "metadata": {},
   "source": [
    "## Theoretical Question"
   ]
  },
  {
   "cell_type": "markdown",
   "metadata": {},
   "source": [
    "The following code is the algorithm in Python to check and calculate his complexity.\n",
    "Considering a splitSwap(a, 0, n), what we can see is that the program runs a lot of time, in particolar every run for n has complexity:\n",
    "\n",
    "**f(n)= +1 (if condition)+ f(n/2) + f(n/2) + 3*n/2 (from the for cycle)=2*f(n/2)+3*n/2+1\n",
    "f(n/2)= 1+ f(n/4) + f(n/4) + 3*n/4**\n",
    "\n",
    "So f(n) becomes:\n",
    "\n",
    "**f(n)=2*(1+ 2f(n/4) + 3*n/4) + 3*n/2 +1 = 2 + 4f(n/4) + 3*n/2 + 3*n/2 + 1= 4f(n/4) +3 + 3*n**\n",
    "\n",
    "Here we already can see the complexity, considering a n -> +inf, +3 is just a costant\n",
    "and so we can see that the complexity of f(n) is done from two part\n",
    "\n",
    "**f(n)= 2^n + c*n** with 2^n repetition of splitSwap and c*n times of the for cycle.\n",
    "\n",
    "So right now the Big(O) has to be the order of 2^n\n",
    "\n",
    "**Big(O)=(2^n)**\n",
    "\n",
    "The algorithm if n has the same number as len(a), and both power of 2, gives you the sorted array in reverse mode,\n",
    "also we can consider just a single function, merged with swapList(a, l, n), cause both gets the same input.\n",
    "Of course it is not optimal cause it gets a lot of time.\n",
    "\n",
    "Just using a simple extra array we can do a single for cycle that does the same thing, for example\n",
    "if we use:\n",
    "\n",
    "a=[1,2,3,4,5,6,7,8]\n",
    "l=0\n",
    "n=8\n",
    "splitSwap(a, l, n)\n",
    "\n",
    "The result of course it will be [8, 7, 6, 5, 4, 3, 2, 1]\n",
    "\n",
    "But it could be easier to do it in this way:\n",
    "\n",
    "l2=[ ]\n",
    "for i in range(-len(a),0):\n",
    "    l2.append(a[i])\n",
    "\n",
    "Same output with BigO(n), beacuse it depends just on the len(a)\n"
   ]
  },
  {
   "cell_type": "code",
   "execution_count": 2,
   "metadata": {},
   "outputs": [],
   "source": [
    "def splitSwap(a, l, n):\n",
    "    #It's a recursive function it need a way to stop and it arrive when n becames 1\n",
    "  if n <= 1:  \n",
    "    return\n",
    "    #First recall of the function with n/2\n",
    "  splitSwap(a, l, n//2) \n",
    "    #Second recall, changing the index with n/2 so we will have a different index\n",
    "  splitSwap(a, l+ n //2, n//2) \n",
    "    #Useless call of a function, it could be just part of the function itself\n",
    "  swapList(a, l, n) \n",
    "\n",
    "def swapList(a, l, n):\n",
    "    #For loop with a temporary variable that remember an element of the array because it will be lost without it\n",
    "  for i in range(n//2): \n",
    "    #Remember ELEMENT 1\n",
    "    tmp = a[l + i] \n",
    "    #ELEMENT 1 becames equals to ELEMENT 3\n",
    "    a[l + i] = a[l + n//2 + i] \n",
    "    #ELEMENT 3 becames equals to the temporary variable and so becames equals to ELEMENT 1\n",
    "    a[l + n//2 + i] = tmp \n",
    "    print(a)\n"
   ]
  },
  {
   "cell_type": "code",
   "execution_count": 17,
   "metadata": {},
   "outputs": [
    {
     "name": "stdout",
     "output_type": "stream",
     "text": [
      "[2, 1, 3, 4, 5, 6, 7, 8]\n",
      "[2, 1, 4, 3, 5, 6, 7, 8]\n",
      "[4, 1, 2, 3, 5, 6, 7, 8]\n",
      "[4, 3, 2, 1, 5, 6, 7, 8]\n",
      "[4, 3, 2, 1, 6, 5, 7, 8]\n",
      "[4, 3, 2, 1, 6, 5, 8, 7]\n",
      "[4, 3, 2, 1, 8, 5, 6, 7]\n",
      "[4, 3, 2, 1, 8, 7, 6, 5]\n",
      "[8, 3, 2, 1, 4, 7, 6, 5]\n",
      "[8, 7, 2, 1, 4, 3, 6, 5]\n",
      "[8, 7, 6, 1, 4, 3, 2, 5]\n",
      "[8, 7, 6, 5, 4, 3, 2, 1]\n"
     ]
    }
   ],
   "source": [
    "#Consider a an array!\n",
    "a=[1,2,3,4,5,6,7,8]\n",
    "l=0\n",
    "n=8\n",
    "splitSwap(a, l, n)"
   ]
  },
  {
   "cell_type": "code",
   "execution_count": 18,
   "metadata": {},
   "outputs": [
    {
     "name": "stdout",
     "output_type": "stream",
     "text": [
      "[8, 7, 6, 5, 4, 3, 2, 1]\n"
     ]
    }
   ],
   "source": [
    "l2=[]\n",
    "for i in range(-len(a),0):\n",
    "    l2.append(a[i])\n",
    "print(l2)"
   ]
  },
  {
   "cell_type": "code",
   "execution_count": null,
   "metadata": {},
   "outputs": [],
   "source": []
  }
 ],
 "metadata": {
  "kernelspec": {
   "display_name": "Python 3",
   "language": "python",
   "name": "python3"
  },
  "language_info": {
   "codemirror_mode": {
    "name": "ipython",
    "version": 3
   },
   "file_extension": ".py",
   "mimetype": "text/x-python",
   "name": "python",
   "nbconvert_exporter": "python",
   "pygments_lexer": "ipython3",
   "version": "3.7.3"
  }
 },
 "nbformat": 4,
 "nbformat_minor": 2
}
